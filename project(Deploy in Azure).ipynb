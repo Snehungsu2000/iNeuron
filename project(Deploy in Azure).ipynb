{
 "cells": [
  {
   "cell_type": "markdown",
   "id": "aa64703a-b273-4523-9d56-1e5c2b86a816",
   "metadata": {},
   "source": [
    "### we have to push the code to Azure from github repository, azure is a cloud service offered by microsoft."
   ]
  },
  {
   "cell_type": "markdown",
   "id": "af4f7080-e7d4-4d9d-a6be-82f795a2919b",
   "metadata": {},
   "source": [
    "## Steps:-\n",
    "\n",
    "#### (i) Go to azure login and create an account\n",
    "#### (ii) Search web app in the search box and select the very first web app option and click create \n",
    "#### (iii) Click create new and name it as you wish for example: pw_eng_image_scrap.\n",
    "#### (iv) Give a web app name as per your choice\n",
    "#### (v) Select runtime as python 3.7\n",
    "#### (vi) Then go to the deployment nd select continuous deployment as \"Enable\"\n",
    "#### (vii) Then it will ask you for your github account\n",
    "#### (viii) Then select the organization, repository and branch\n",
    "#### (ix) Then create (review + create) and click create\n",
    "#### (x) once the deployment is complete click \"Go to Resource\" and from there you will go to \"deployment center\" \n",
    "#### (xi) Inside \"deployment center\" go to \"logs\" and then click \"Build&Ddeploy\" option\n",
    "#### It will build and deploy the entire thing and will give a url.\n",
    "#### (xii) Click the given url and it will redirect you to the app.\n",
    "#### (xiii) Now if you go and check the github repository there will be a workflow created by Azure.\n",
    "#### (xiv) Now if we go to mongodb then we will find that it has stored all the data in binary format."
   ]
  }
 ],
 "metadata": {
  "kernelspec": {
   "display_name": "Python 3 (ipykernel)",
   "language": "python",
   "name": "python3"
  },
  "language_info": {
   "codemirror_mode": {
    "name": "ipython",
    "version": 3
   },
   "file_extension": ".py",
   "mimetype": "text/x-python",
   "name": "python",
   "nbconvert_exporter": "python",
   "pygments_lexer": "ipython3",
   "version": "3.11.7"
  }
 },
 "nbformat": 4,
 "nbformat_minor": 5
}
