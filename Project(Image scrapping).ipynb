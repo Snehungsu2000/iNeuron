{
 "cells": [
  {
   "cell_type": "markdown",
   "id": "a766bc13-f8db-48ce-844e-9ccd3ece68a1",
   "metadata": {},
   "source": [
    "## How we can scrap images from google image search."
   ]
  },
  {
   "cell_type": "markdown",
   "id": "cb85f0a1-162f-4b05-a000-0c09415091c1",
   "metadata": {},
   "source": [
    "#### Import libraries"
   ]
  },
  {
   "cell_type": "code",
   "execution_count": 6,
   "id": "74b78fa0-1aec-440b-8b76-323b0535a818",
   "metadata": {},
   "outputs": [],
   "source": [
    "import requests\n",
    "from bs4 import BeautifulSoup\n",
    "from urllib.request import urlopen\n",
    "import logging\n",
    "import os"
   ]
  },
  {
   "cell_type": "markdown",
   "id": "c5403db5-70aa-4366-be68-f190063d6686",
   "metadata": {},
   "source": [
    "#### create a directory where we can save all the images"
   ]
  },
  {
   "cell_type": "code",
   "execution_count": 7,
   "id": "7178e32a-2c29-43db-819b-addea40c2575",
   "metadata": {},
   "outputs": [],
   "source": [
    "save_dir = \"images/\"\n",
    "#if the directory doesn't exist then create one\n",
    "if not os.path.exists(save_dir):\n",
    "    os.makedirs(save_dir)"
   ]
  },
  {
   "cell_type": "markdown",
   "id": "ab31ea00-611b-4b09-bedc-9a4cc5e9ab4d",
   "metadata": {},
   "source": [
    "#### Add a header so that it can bypass the entire ips and it will not block my system to fetch the images, beacuse if you fetch images again and again then google might block you"
   ]
  },
  {
   "cell_type": "code",
   "execution_count": 10,
   "id": "2a4bf94a-df95-49ca-b363-6e98f9e4e07b",
   "metadata": {},
   "outputs": [],
   "source": [
    "headers = {\"User-Agent\": \"Mozilla/5.0 (Windows NT 10.0; Win64; x64) AppleWebKit/537.36 (KHTML, like Gecko) Chrome/58.0.3029.110 Safari/537.36\"}"
   ]
  },
  {
   "cell_type": "code",
   "execution_count": 11,
   "id": "9686dc8f-c8aa-4fb3-a75a-7eb489cfd32f",
   "metadata": {},
   "outputs": [],
   "source": [
    "query = \"elon musk\"\n",
    "response = requests.get(f\"https://www.google.com/search?q={query}&sxsrf=AJOqlzUuff1RXi2mm8I_OqOwT9VjfIDL7w:1676996143273&source=lnms&tbm=isch&sa=X&ved=2ahUKEwiq-qK7gaf9AhXUgVYBHYReAfYQ_AUoA3oECAEQBQ&biw=1920&bih=937&dpr=1#imgrc=1th7VhSesfMJ4M\")"
   ]
  },
  {
   "cell_type": "code",
   "execution_count": 12,
   "id": "cfb2f0c2-b24b-4493-9e84-76169217d517",
   "metadata": {},
   "outputs": [
    {
     "data": {
      "text/plain": [
       "<Response [200]>"
      ]
     },
     "execution_count": 12,
     "metadata": {},
     "output_type": "execute_result"
    }
   ],
   "source": [
    "response"
   ]
  },
  {
   "cell_type": "code",
   "execution_count": 13,
   "id": "aeeb6114-5410-4974-b318-96ff46d7bc25",
   "metadata": {},
   "outputs": [
    {
     "data": {
      "text/plain": [
       "b'<!DOCTYPE html PUBLIC \"-//WAPFORUM//DTD XHTML Mobile 1.0//EN\" \"http://www.wapforum.org/DTD/xhtml-mobile10.dtd\"><html xmlns=\"http://www.w3.org/1999/xhtml\" lang=\"en-IN\"><head><meta content=\"application/xhtml+xml; charset=UTF-8\" http-equiv=\"Content-Type\"/><meta content=\"no-cache\" name=\"Cache-Control\"/><title>elon musk - Google Search</title><style>a{text-decoration:none;color:inherit}a:hover{text-decoration:underline}a img{border:0}body{font-family:arial,sans-serif;padding:8px;margin:0 auto;max-width:700px;min-width:240px;}.FbhRzb{border-left:thin solid #dadce0;border-right:thin solid #dadce0;border-top:thin solid #dadce0;height:40px;overflow:hidden}.n692Zd{margin-bottom:10px}.cvifge{height:40px;border-spacing:0}.QvGUP{height:40px;padding:0 8px 0 8px;vertical-align:top}.O4cRJf{height:40px;width:100%;padding:0;padding-right:14px}.O1ePr{height:40px;padding:0;vertical-align:top}.kgJEQe{height:36px;width:98px;vertical-align:top;margin-top:4px}.lXLRf{vertical-align:top}.MhzMZd{border:0;vertical-align:middle;font-size:14px;height:40px;padding:0;width:100%;padding-left:14px}.xB0fq{height:40px;border:none;font-size:14px;background-color:#1a73e8;color:#fff;padding:0 14px;margin:0;vertical-align:top;cursor:pointer}.xB0fq:focus{border:1px solid #1a73e8}.M7pB2{border:thin solid #dadce0;margin:0 0 3px 0;font-size:13px;font-weight:500;height:40px}.euZec{width:100%;height:40px;text-align:center;border-spacing:0}table.euZec td{padding:0;width:25%}.QIqI7{display:inline-block;padding-top:4px;font-weight:bold;color:#4285f4}.EY24We{border-bottom:2px solid #4285f4}.CsQyDc{display:inline-block;color:#70757a}.TuS8Ad{font-size:14px}.HddGcc{padding:8px;color:#70757a}.dzp8ae{font-weight:bold;color:#3c4043}.rEM8G{color:#70757a}.bookcf{table-layout:fixed;width:100%;border-spacing:0}.InWNIe{text-align:center}.uZgmoc{border:thin solid #dadce0;color:#70757a;font-size:14px;text-align:center;table-layout:fixed;width:100%}.frGj1b{display:block;padding:16px 0 12px 0;width:100%}.BnJWBc{text-align:center;padding:6px 0 13px 0;height:35px}.e3goi{vertical-align:top;padding:0;height:180px}.GpQGbf{margin:auto;border-collapse:collapse;border-spacing:0;width:100%}</style></head><body><style>.X6ZCif{color:#202124;font-size:11px;line-height:16px;display:inline-block;padding-top:2px;overflow:hidden;padding-bottom:4px;width:100%}.TwVfHd{border-radius:16px;border:thin solid #dadce0;display:inline-block;padding:8px 8px;margin-right:8px;margin-bottom:4px}.yekiAe{background-color:#dadce0}.jjVJ4e{width:100%}.ezO2md{border:thin solid #dadce0;padding:16px 14px 12px 14px;margin-bottom:10px;font-family:arial,sans-serif}.lIMUZd{font-family:arial,sans-serif}.RntSmf{border-spacing:0}.lgD2Tc{width:100%}.SpelHe{text-align:center}.SpelHe{position:relative}.kCmkOe{position:relative}.kCmkOe{width:162px;height:140px;line-height:140px;overflow:\\'hidden\\';text-align:center}.DS1iW{text-align:center;margin:auto;vertical-align:middle;max-width:162px;max-height:140px}.AlD19d{padding-top:2px;padding-bottom:8px;}.fYyStc{word-break:break-word}.ynsChf{display:block;white-space:nowrap;overflow:hidden;text-overflow:ellipsis}.Fj3V3b{color:#1967d2;font-size:14px;line-height:20px}.FrIlee{color:#202124;font-size:11px;line-height:16px}.F9iS2e{color:#70757a;font-size:11px;line-height:16px}.WMQ2Le{color:#70757a;font-size:12px;line-height:16px}.x3G5ab{color:#202124;font-size:12px;line-height:16px}.fuLhoc{color:#1967d2;font-size:16px;line-height:20px}.epoveb{font-size:24px;line-height:28px;font-weight:400;color:#202124}.dXDvrc{color:#0d652d;font-size:14px;line-height:20px;word-wrap:break-word}.dloBPe{font-weight:bold}.YVIcad{color:#70757a}.JkVVdd{color:#ea4335}.oXZRFd{color:#ea4335}.MQHtg{color:#fbbc04}.pyMRrb{color:#1e8e3e}.EtTZid{color:#1e8e3e}.M3vVJe{color:#1967d2}.qXLe6d{display:block}.NHQNef{font-style:italic}.Cb8Z7c{white-space:pre}a.ZWRArf{text-decoration:none}a .CVA68e:hover{text-decoration:underline}</style><div class=\"n692Zd\"><div class=\"BnJWBc\"><a class=\"lXLRf\" href=\"/?sa=X&amp;sca_esv=83043bb16318dcfb&amp;biw=1920&amp;bih=937&amp;output=images&amp;ie=UTF-8&amp;tbm=isch&amp;ved=0ahUKEwjZuv-f5smKAxU0TWcHHZFrML4QPAgC\"><img class=\"kgJEQe\" src=\"/images/branding/searchlogo/1x/googlelogo_desk_heirloom_color_150x55dp.gif\" alt=\"Google\"/></a></div><div class=\"FbhRzb\"><form action=\"/search\"><input name=\"sca_esv\" value=\"83043bb16318dcfb\" type=\"hidden\"/><input name=\"biw\" value=\"1920\" type=\"hidden\"/><input name=\"bih\" value=\"937\" type=\"hidden\"/><input name=\"ie\" value=\"ISO-8859-1\" type=\"hidden\"/><input name=\"tbm\" value=\"isch\" type=\"hidden\"/><input name=\"oq\" type=\"hidden\"/><input name=\"aqs\" type=\"hidden\"/><table class=\"cvifge\"><tr><td class=\"O4cRJf\"><input class=\"MhzMZd\" value=\"elon musk\" name=\"q\" type=\"text\"/></td><td class=\"O1ePr\"><input class=\"xB0fq\" value=\"Search\" type=\"submit\"/></td></tr></table></form></div><div class=\"M7pB2\"><table class=\"euZec\"><tbody><tr><td><a class=\"CsQyDc\" href=\"/search?q=elon+musk&amp;sca_esv=83043bb16318dcfb&amp;biw=1920&amp;bih=937&amp;ie=UTF-8&amp;source=lnms&amp;sa=X&amp;ved=0ahUKEwjZuv-f5smKAxU0TWcHHZFrML4Q_AUIBCgA\">ALL</a></td><td><a class=\"CsQyDc\" href=\"/search?q=elon+musk&amp;sca_esv=83043bb16318dcfb&amp;biw=1920&amp;bih=937&amp;ie=UTF-8&amp;tbm=nws&amp;source=lnms&amp;sa=X&amp;ved=0ahUKEwjZuv-f5smKAxU0TWcHHZFrML4Q_AUIBSgB\">NEWS</a></td><td class=\"EY24We\"><span class=\"QIqI7\">IMAGES</span></td><td><a class=\"CsQyDc\" href=\"/search?q=elon+musk&amp;sca_esv=83043bb16318dcfb&amp;biw=1920&amp;bih=937&amp;ie=UTF-8&amp;tbm=vid&amp;source=lnms&amp;sa=X&amp;ved=0ahUKEwjZuv-f5smKAxU0TWcHHZFrML4Q_AUIBygD\">VIDEOS</a></td></tr></tbody></table></div></div><div><table class=\"GpQGbf\"><tr><td class=\"e3goi\" align=\"center\"><div class=\"jjVJ4e\"> <div> <div class=\"lIMUZd\"><div><table class=\"RntSmf\"><tr><td><a href=\"/url?q=https://en.wikipedia.org/wiki/Elon_Musk&amp;sa=U&amp;ved=2ahUKEwjZuv-f5smKAxU0TWcHHZFrML4QqoUBegQIBRAB&amp;usg=AOvVaw1b7JUB6Zg_Er8GZ25Uy2Hj\"><div class=\"kCmkOe\"><img class=\"DS1iW\" alt=\"\" src=\"https://encrypted-tbn0.gstatic.com/images?q=tbn:ANd9GcSDJD7LYF5IejCMDJ05wR7hWZTU7MZix12HZdmCb0ZMCCrUAc8Lp5FXRJPqxA&amp;s\"/></div></a></td></tr><tr><td><a href=\"/url?q=https://en.wikipedia.org/wiki/Elon_Musk&amp;sa=U&amp;ved=2ahUKEwjZuv-f5smKAxU0TWcHHZFrML4Qr4kDegQIBRAC&amp;usg=AOvVaw0e9JUEWewYQVi4mZteJjqD\"><div class=\"AlD19d\">  <span class=\"qXLe6d x3G5ab\">  <span class=\"fYyStc\">Elon Musk - Wikipedia</span>  </span>   <span class=\"qXLe6d F9iS2e\">  <span class=\"fYyStc\">en.wikipedia.org</span>  </span> </div></a></td></tr></table></div></div> </div> </div></td><td class=\"e3goi\" align=\"center\"><div class=\"jjVJ4e\"> <div> <div class=\"lIMUZd\"><div><table class=\"RntSmf\"><tr><td><a href=\"/url?q=https://www.nbcnews.com/tech/tech-news/elon-musk-meeting-foreign-leaders-trump-conflict-putin-china-rcna184846&amp;sa=U&amp;ved=2ahUKEwjZuv-f5smKAxU0TWcHHZFrML4QqoUBegQIEhAB&amp;usg=AOvVaw3I-7rczjCJrdj5Kl4V2udF\"><div class=\"kCmkOe\"><img class=\"DS1iW\" alt=\"\" src=\"https://encrypted-tbn0.gstatic.com/images?q=tbn:ANd9GcSEMpZ-55NsDvUyPxweMfg2lxeKWz9uI1Wc34_nwrGR9JgVArs7kWtRoIzW7uM&amp;s\"/></div></a></td></tr><tr><td><a href=\"/url?q=https://www.nbcnews.com/tech/tech-news/elon-musk-meeting-foreign-leaders-trump-conflict-putin-china-rcna184846&amp;sa=U&amp;ved=2ahUKEwjZuv-f5smKAxU0TWcHHZFrML4Qr4kDegQIEhAC&amp;usg=AOvVaw23NrVDUJpwTspKYsr0AN1x\"><div class=\"AlD19d\">  <span class=\"qXLe6d x3G5ab\">  <span class=\"fYyStc\">Elon Musk\\'s meetings with...</span>  </span>   <span class=\"qXLe6d F9iS2e\">  <span class=\"fYyStc\">www.nbcnews.com</span>  </span> </div></a></td></tr></table></div></div> </div> </div></td><td class=\"e3goi\" align=\"center\"><div class=\"jjVJ4e\"> <div> <div class=\"lIMUZd\"><div><table class=\"RntSmf\"><tr><td><a href=\"/url?q=https://www.investopedia.com/articles/personal-finance/061015/how-elon-musk-became-elon-musk.asp&amp;sa=U&amp;ved=2ahUKEwjZuv-f5smKAxU0TWcHHZFrML4QqoUBegQIExAB&amp;usg=AOvVaw0FiY_wdF-CYYmYKlVrBYKG\"><div class=\"kCmkOe\"><img class=\"DS1iW\" alt=\"\" src=\"https://encrypted-tbn0.gstatic.com/images?q=tbn:ANd9GcTTO0bYn7LKOBzOMJRp9mXeD2scBnuMtPGfQYqjaBoxMHMtDToYys4awIx7ou8&amp;s\"/></div></a></td></tr><tr><td><a href=\"/url?q=https://www.investopedia.com/articles/personal-finance/061015/how-elon-musk-became-elon-musk.asp&amp;sa=U&amp;ved=2ahUKEwjZuv-f5smKAxU0TWcHHZFrML4Qr4kDegQIExAC&amp;usg=AOvVaw0ffdNFt8kdqgFQX6ClWXma\"><div class=\"AlD19d\">  <span class=\"qXLe6d x3G5ab\">  <span class=\"fYyStc\">Who Is Elon Musk?</span>  </span>   <span class=\"qXLe6d F9iS2e\">  <span class=\"fYyStc\">www.investopedia.com</span>  </span> </div></a></td></tr></table></div></div> </div> </div></td><td class=\"e3goi\" align=\"center\"><div class=\"jjVJ4e\"> <div> <div class=\"lIMUZd\"><div><table class=\"RntSmf\"><tr><td><a href=\"/url?q=https://www.biography.com/business-leaders/elon-musk&amp;sa=U&amp;ved=2ahUKEwjZuv-f5smKAxU0TWcHHZFrML4QqoUBegQIERAB&amp;usg=AOvVaw3IgpPx8OqXOUQXH5lX_F-m\"><div class=\"kCmkOe\"><img class=\"DS1iW\" alt=\"\" src=\"https://encrypted-tbn0.gstatic.com/images?q=tbn:ANd9GcTqUKFTgXMBXxPKirf_7GG-LRDUQHwsD-MxQh90gYfiMZdMrWP1VgjUdZhKaQ&amp;s\"/></div></a></td></tr><tr><td><a href=\"/url?q=https://www.biography.com/business-leaders/elon-musk&amp;sa=U&amp;ved=2ahUKEwjZuv-f5smKAxU0TWcHHZFrML4Qr4kDegQIERAC&amp;usg=AOvVaw3lwb6zCcugSt7YjNabQmpy\"><div class=\"AlD19d\">  <span class=\"qXLe6d x3G5ab\">  <span class=\"fYyStc\">Elon Musk: Biography,...</span>  </span>   <span class=\"qXLe6d F9iS2e\">  <span class=\"fYyStc\">www.biography.com</span>  </span> </div></a></td></tr></table></div></div> </div> </div></td></tr><tr><td class=\"e3goi\" align=\"center\"><div class=\"jjVJ4e\"> <div> <div class=\"lIMUZd\"><div><table class=\"RntSmf\"><tr><td><a href=\"/url?q=https://www.newsweek.com/elon-musk-takes-aim-wikipedia-fund-raising-editing-political-woke-2005742&amp;sa=U&amp;ved=2ahUKEwjZuv-f5smKAxU0TWcHHZFrML4QqoUBegQIDBAB&amp;usg=AOvVaw1oBuXWCc5SlZoi1rPUIEHh\"><div class=\"kCmkOe\"><img class=\"DS1iW\" alt=\"\" src=\"https://encrypted-tbn0.gstatic.com/images?q=tbn:ANd9GcSIaRajOLLkmY-i1lCPIGKGlYf3uFBpejbckY0fj96YzRWWn948OTSKzpRMDcI&amp;s\"/></div></a></td></tr><tr><td><a href=\"/url?q=https://www.newsweek.com/elon-musk-takes-aim-wikipedia-fund-raising-editing-political-woke-2005742&amp;sa=U&amp;ved=2ahUKEwjZuv-f5smKAxU0TWcHHZFrML4Qr4kDegQIDBAC&amp;usg=AOvVaw0CmfsyHbKizbiRq7D2rqEm\"><div class=\"AlD19d\">  <span class=\"qXLe6d x3G5ab\">  <span class=\"fYyStc\">Elon Musk Takes Aim at...</span>  </span>   <span class=\"qXLe6d F9iS2e\">  <span class=\"fYyStc\">www.newsweek.com</span>  </span> </div></a></td></tr></table></div></div> </div> </div></td><td class=\"e3goi\" align=\"center\"><div class=\"jjVJ4e\"> <div> <div class=\"lIMUZd\"><div><table class=\"RntSmf\"><tr><td><a href=\"/url?q=https://www.wired.com/story/elon-musk-x-spacex-texas-move/&amp;sa=U&amp;ved=2ahUKEwjZuv-f5smKAxU0TWcHHZFrML4QqoUBegQIDhAB&amp;usg=AOvVaw2NKFzzDIJ0-OLt2n7QC4HC\"><div class=\"kCmkOe\"><img class=\"DS1iW\" alt=\"\" src=\"https://encrypted-tbn0.gstatic.com/images?q=tbn:ANd9GcR0rOOJMKzmPWZ75AEtvbV6vHa8WhAVpg3bPaBOw99Uf2NacT3dV8tRxzm6hA&amp;s\"/></div></a></td></tr><tr><td><a href=\"/url?q=https://www.wired.com/story/elon-musk-x-spacex-texas-move/&amp;sa=U&amp;ved=2ahUKEwjZuv-f5smKAxU0TWcHHZFrML4Qr4kDegQIDhAC&amp;usg=AOvVaw1xhogxHcIFEpq5fBE8hhD5\"><div class=\"AlD19d\">  <span class=\"qXLe6d x3G5ab\">  <span class=\"fYyStc\">Elon Musk Says He\\'s Moving...</span>  </span>   <span class=\"qXLe6d F9iS2e\">  <span class=\"fYyStc\">www.wired.com</span>  </span> </div></a></td></tr></table></div></div> </div> </div></td><td class=\"e3goi\" align=\"center\"><div class=\"jjVJ4e\"> <div> <div class=\"lIMUZd\"><div><table class=\"RntSmf\"><tr><td><a href=\"/url?q=https://variety.com/2022/digital/news/elon-musk-twitter-layoffs-75-percent-1235410335/&amp;sa=U&amp;ved=2ahUKEwjZuv-f5smKAxU0TWcHHZFrML4QqoUBegQIDRAB&amp;usg=AOvVaw2rPHPfS859QrbinR31QWW9\"><div class=\"kCmkOe\"><img class=\"DS1iW\" alt=\"\" src=\"https://encrypted-tbn0.gstatic.com/images?q=tbn:ANd9GcT20kFAfk-z5Zn6W7jHCi4_QYw-3wotdEkZJyA2ZFRkZ688pckdQkNoaq7JdGA&amp;s\"/></div></a></td></tr><tr><td><a href=\"/url?q=https://variety.com/2022/digital/news/elon-musk-twitter-layoffs-75-percent-1235410335/&amp;sa=U&amp;ved=2ahUKEwjZuv-f5smKAxU0TWcHHZFrML4Qr4kDegQIDRAC&amp;usg=AOvVaw2Qw0MMq0XA4njBun_LJD_2\"><div class=\"AlD19d\">  <span class=\"qXLe6d x3G5ab\">  <span class=\"fYyStc\">Elon Musk Plans to Lay Off...</span>  </span>   <span class=\"qXLe6d F9iS2e\">  <span class=\"fYyStc\">variety.com</span>  </span> </div></a></td></tr></table></div></div> </div> </div></td><td class=\"e3goi\" align=\"center\"><div class=\"jjVJ4e\"> <div> <div class=\"lIMUZd\"><div><table class=\"RntSmf\"><tr><td><a href=\"/url?q=https://timesofindia.indiatimes.com/technology/social/tech-ceo-asks-whether-foreign-born-workers-are-taking-jobs-away-from-americans-elon-musk-responds/articleshow/116683272.cms&amp;sa=U&amp;ved=2ahUKEwjZuv-f5smKAxU0TWcHHZFrML4QqoUBegQIDxAB&amp;usg=AOvVaw3H9XbbpZnx1mA-u5JsYWC0\"><div class=\"kCmkOe\"><img class=\"DS1iW\" alt=\"\" src=\"https://encrypted-tbn0.gstatic.com/images?q=tbn:ANd9GcQDMFJCe07ytM9Vb50Bbh7pjmYDGRc52yyhJ8u5aOsKYrWqnuXwBBPfXnHJHw&amp;s\"/></div></a></td></tr><tr><td><a href=\"/url?q=https://timesofindia.indiatimes.com/technology/social/tech-ceo-asks-whether-foreign-born-workers-are-taking-jobs-away-from-americans-elon-musk-responds/articleshow/116683272.cms&amp;sa=U&amp;ved=2ahUKEwjZuv-f5smKAxU0TWcHHZFrML4Qr4kDegQIDxAC&amp;usg=AOvVaw0z93cM27p9OrpXxAVPJeWk\"><div class=\"AlD19d\">  <span class=\"qXLe6d x3G5ab\">  <span class=\"fYyStc\">Elon Musk responds to tech...</span>  </span>   <span class=\"qXLe6d F9iS2e\">  <span class=\"fYyStc\">timesofindia.indiatimes.com...</span>  </span> </div></a></td></tr></table></div></div> </div> </div></td></tr><tr><td class=\"e3goi\" align=\"center\"><div class=\"jjVJ4e\"> <div> <div class=\"lIMUZd\"><div><table class=\"RntSmf\"><tr><td><a href=\"/url?q=https://www.wikidata.org/wiki/Q317521&amp;sa=U&amp;ved=2ahUKEwjZuv-f5smKAxU0TWcHHZFrML4QqoUBegQICxAB&amp;usg=AOvVaw1AeDkQHeWER_bpETjJMKkS\"><div class=\"kCmkOe\"><img class=\"DS1iW\" alt=\"\" src=\"https://encrypted-tbn0.gstatic.com/images?q=tbn:ANd9GcQWIm8IhNbQ8cHHkx25dbTK7_RaRK8DrRrK4GrR4wyApiAsBJPUbhsa7ICjKg&amp;s\"/></div></a></td></tr><tr><td><a href=\"/url?q=https://www.wikidata.org/wiki/Q317521&amp;sa=U&amp;ved=2ahUKEwjZuv-f5smKAxU0TWcHHZFrML4Qr4kDegQICxAC&amp;usg=AOvVaw0ted-FB1OGRBAvaqQCdZgj\"><div class=\"AlD19d\">  <span class=\"qXLe6d x3G5ab\">  <span class=\"fYyStc\">Elon Musk - Wikidata</span>  </span>   <span class=\"qXLe6d F9iS2e\">  <span class=\"fYyStc\">www.wikidata.org</span>  </span> </div></a></td></tr></table></div></div> </div> </div></td><td class=\"e3goi\" align=\"center\"><div class=\"jjVJ4e\"> <div> <div class=\"lIMUZd\"><div><table class=\"RntSmf\"><tr><td><a href=\"/url?q=https://www.rand.org/pubs/commentary/2024/10/what-does-elon-musk-want-spacex-ceo-may-pose-a-risk.html&amp;sa=U&amp;ved=2ahUKEwjZuv-f5smKAxU0TWcHHZFrML4QqoUBegQIEBAB&amp;usg=AOvVaw1c7l_QPh1m9GK7MgW2I9En\"><div class=\"kCmkOe\"><img class=\"DS1iW\" alt=\"\" src=\"https://encrypted-tbn0.gstatic.com/images?q=tbn:ANd9GcT6w49vP73lwDopVLgUIE0pKgeUT2o573xS6Ebfv_4ioc4GfDL4yQmzoIqNvsc&amp;s\"/></div></a></td></tr><tr><td><a href=\"/url?q=https://www.rand.org/pubs/commentary/2024/10/what-does-elon-musk-want-spacex-ceo-may-pose-a-risk.html&amp;sa=U&amp;ved=2ahUKEwjZuv-f5smKAxU0TWcHHZFrML4Qr4kDegQIEBAC&amp;usg=AOvVaw3jck-2-ERtCxMgxYuxhhLT\"><div class=\"AlD19d\">  <span class=\"qXLe6d x3G5ab\">  <span class=\"fYyStc\">What Does Elon Musk Want?...</span>  </span>   <span class=\"qXLe6d F9iS2e\">  <span class=\"fYyStc\">www.rand.org</span>  </span> </div></a></td></tr></table></div></div> </div> </div></td><td class=\"e3goi\" align=\"center\"><div class=\"jjVJ4e\"> <div> <div class=\"lIMUZd\"><div><table class=\"RntSmf\"><tr><td><a href=\"/url?q=https://www.news18.com/viral/elon-musk-says-his-1-billion-offer-for-wikipedia-to-change-its-name-still-stands-ws-a-9169792.html&amp;sa=U&amp;ved=2ahUKEwjZuv-f5smKAxU0TWcHHZFrML4QqoUBegQICRAB&amp;usg=AOvVaw3c--vjvjvM6EfCBChcTXgJ\"><div class=\"kCmkOe\"><img class=\"DS1iW\" alt=\"\" src=\"https://encrypted-tbn0.gstatic.com/images?q=tbn:ANd9GcQacgJAXcRgd0JkCWg8SzyE1btOBsa2pKI92-erLnye28fiM31luigRyrUBR3M&amp;s\"/></div></a></td></tr><tr><td><a href=\"/url?q=https://www.news18.com/viral/elon-musk-says-his-1-billion-offer-for-wikipedia-to-change-its-name-still-stands-ws-a-9169792.html&amp;sa=U&amp;ved=2ahUKEwjZuv-f5smKAxU0TWcHHZFrML4Qr4kDegQICRAC&amp;usg=AOvVaw3G_NPBLvKolRVcAvNkD69D\"><div class=\"AlD19d\">  <span class=\"qXLe6d x3G5ab\">  <span class=\"fYyStc\">Elon Musk Says His $1...</span>  </span>   <span class=\"qXLe6d F9iS2e\">  <span class=\"fYyStc\">www.news18.com</span>  </span> </div></a></td></tr></table></div></div> </div> </div></td><td class=\"e3goi\" align=\"center\"><div class=\"jjVJ4e\"> <div> <div class=\"lIMUZd\"><div><table class=\"RntSmf\"><tr><td><a href=\"/url?q=https://en.wikipedia.org/wiki/Elon_Musk_filmography&amp;sa=U&amp;ved=2ahUKEwjZuv-f5smKAxU0TWcHHZFrML4QqoUBegQIChAB&amp;usg=AOvVaw0ZzNZwd50KYHHi6LountXD\"><div class=\"kCmkOe\"><img class=\"DS1iW\" alt=\"\" src=\"https://encrypted-tbn0.gstatic.com/images?q=tbn:ANd9GcRo1z4r1k-shQE9be9jpquOloWG202zkJwti8MyxG4KJNpxbt7mUt0MGySt0A&amp;s\"/></div></a></td></tr><tr><td><a href=\"/url?q=https://en.wikipedia.org/wiki/Elon_Musk_filmography&amp;sa=U&amp;ved=2ahUKEwjZuv-f5smKAxU0TWcHHZFrML4Qr4kDegQIChAC&amp;usg=AOvVaw2mBTpcS1DaV132Yec5nkvb\"><div class=\"AlD19d\">  <span class=\"qXLe6d x3G5ab\">  <span class=\"fYyStc\">Elon Musk filmography -...</span>  </span>   <span class=\"qXLe6d F9iS2e\">  <span class=\"fYyStc\">en.wikipedia.org</span>  </span> </div></a></td></tr></table></div></div> </div> </div></td></tr><tr><td class=\"e3goi\" align=\"center\"><div class=\"jjVJ4e\"> <div> <div class=\"lIMUZd\"><div><table class=\"RntSmf\"><tr><td><a href=\"/url?q=https://www.investopedia.com/elon-musk-net-worth-tesla-spacex-ai-300-billion-8740315&amp;sa=U&amp;ved=2ahUKEwjZuv-f5smKAxU0TWcHHZFrML4QqoUBegQIABAB&amp;usg=AOvVaw3D-OfX9GQMu3fEjCxnz4Hp\"><div class=\"kCmkOe\"><img class=\"DS1iW\" alt=\"\" src=\"https://encrypted-tbn0.gstatic.com/images?q=tbn:ANd9GcR0UR0lea0Dt_rshwFKkrxSw8n_XbaaqYMXXfN4vptpoNDuiHLysBmM8rhOhZo&amp;s\"/></div></a></td></tr><tr><td><a href=\"/url?q=https://www.investopedia.com/elon-musk-net-worth-tesla-spacex-ai-300-billion-8740315&amp;sa=U&amp;ved=2ahUKEwjZuv-f5smKAxU0TWcHHZFrML4Qr4kDegQIABAC&amp;usg=AOvVaw2DshYluh5Pc0H8BMGyAi1x\"><div class=\"AlD19d\">  <span class=\"qXLe6d x3G5ab\">  <span class=\"fYyStc\">Elon Musk\\'s Net Worth...</span>  </span>   <span class=\"qXLe6d F9iS2e\">  <span class=\"fYyStc\">www.investopedia.com</span>  </span> </div></a></td></tr></table></div></div> </div> </div></td><td class=\"e3goi\" align=\"center\"><div class=\"jjVJ4e\"> <div> <div class=\"lIMUZd\"><div><table class=\"RntSmf\"><tr><td><a href=\"/url?q=https://www.npr.org/2022/06/01/1102513281/elon-musk-tesla-return-to-work&amp;sa=U&amp;ved=2ahUKEwjZuv-f5smKAxU0TWcHHZFrML4QqoUBegQIARAB&amp;usg=AOvVaw2Gnp80YGcJFeLDgsTbw5pw\"><div class=\"kCmkOe\"><img class=\"DS1iW\" alt=\"\" src=\"https://encrypted-tbn0.gstatic.com/images?q=tbn:ANd9GcQOjwaZrd03QkYk1J8nlstvVtFfFrb9u6661TZS3dpWyewqPjXK5Sd4zMbBOg&amp;s\"/></div></a></td></tr><tr><td><a href=\"/url?q=https://www.npr.org/2022/06/01/1102513281/elon-musk-tesla-return-to-work&amp;sa=U&amp;ved=2ahUKEwjZuv-f5smKAxU0TWcHHZFrML4Qr4kDegQIARAC&amp;usg=AOvVaw2EHHRyWv011C1fnWP-hpx1\"><div class=\"AlD19d\">  <span class=\"qXLe6d x3G5ab\">  <span class=\"fYyStc\">Elon Musk tells employees...</span>  </span>   <span class=\"qXLe6d F9iS2e\">  <span class=\"fYyStc\">www.npr.org</span>  </span> </div></a></td></tr></table></div></div> </div> </div></td><td class=\"e3goi\" align=\"center\"><div class=\"jjVJ4e\"> <div> <div class=\"lIMUZd\"><div><table class=\"RntSmf\"><tr><td><a href=\"/url?q=https://al24news.com/en/elon-musk-playing-the-same-game-as-rockefeller/&amp;sa=U&amp;ved=2ahUKEwjZuv-f5smKAxU0TWcHHZFrML4QqoUBegQIBxAB&amp;usg=AOvVaw0EwfbUaUsdZie1OOnB089K\"><div class=\"kCmkOe\"><img class=\"DS1iW\" alt=\"\" src=\"https://encrypted-tbn0.gstatic.com/images?q=tbn:ANd9GcRH_JBeQhH2-Ki_WbxwM5H42dyg9gv8eaa-OoJLL0V_Vd7IhGxAFrKz2e66Gzs&amp;s\"/></div></a></td></tr><tr><td><a href=\"/url?q=https://al24news.com/en/elon-musk-playing-the-same-game-as-rockefeller/&amp;sa=U&amp;ved=2ahUKEwjZuv-f5smKAxU0TWcHHZFrML4Qr4kDegQIBxAC&amp;usg=AOvVaw3RuUPSs5BIQ5eULDc064Ba\"><div class=\"AlD19d\">  <span class=\"qXLe6d x3G5ab\">  <span class=\"fYyStc\">Elon Musk : Playing the...</span>  </span>   <span class=\"qXLe6d F9iS2e\">  <span class=\"fYyStc\">al24news.com</span>  </span> </div></a></td></tr></table></div></div> </div> </div></td><td class=\"e3goi\" align=\"center\"><div class=\"jjVJ4e\"> <div> <div class=\"lIMUZd\"><div><table class=\"RntSmf\"><tr><td><a href=\"/url?q=https://www.newyorker.com/news/the-lede/elon-musks-surging-political-activism&amp;sa=U&amp;ved=2ahUKEwjZuv-f5smKAxU0TWcHHZFrML4QqoUBegQIBBAB&amp;usg=AOvVaw3V3ePY-oIcanx9pj3uUJA1\"><div class=\"kCmkOe\"><img class=\"DS1iW\" alt=\"\" src=\"https://encrypted-tbn0.gstatic.com/images?q=tbn:ANd9GcTg1dWhyn4s6XFqUgu96UDa-8R5_FDWORMys-ZNUt94WUPv3g3Ff20-w190Kd8&amp;s\"/></div></a></td></tr><tr><td><a href=\"/url?q=https://www.newyorker.com/news/the-lede/elon-musks-surging-political-activism&amp;sa=U&amp;ved=2ahUKEwjZuv-f5smKAxU0TWcHHZFrML4Qr4kDegQIBBAC&amp;usg=AOvVaw1_jxheuBIW9bwjd_5WHvJN\"><div class=\"AlD19d\">  <span class=\"qXLe6d x3G5ab\">  <span class=\"fYyStc\">Elon Musk\\'s Surging...</span>  </span>   <span class=\"qXLe6d F9iS2e\">  <span class=\"fYyStc\">www.newyorker.com</span>  </span> </div></a></td></tr></table></div></div> </div> </div></td></tr><tr><td class=\"e3goi\" align=\"center\"><div class=\"jjVJ4e\"> <div> <div class=\"lIMUZd\"><div><table class=\"RntSmf\"><tr><td><a href=\"/url?q=https://hticglobal.com/blog/elon-musk-becomes-the-first-person-ever-to-lose-200-billion/&amp;sa=U&amp;ved=2ahUKEwjZuv-f5smKAxU0TWcHHZFrML4QqoUBegQIBhAB&amp;usg=AOvVaw1TeOUvYJ6UNzxslyeNAOJI\"><div class=\"kCmkOe\"><img class=\"DS1iW\" alt=\"\" src=\"https://encrypted-tbn0.gstatic.com/images?q=tbn:ANd9GcRqTcoPRnzUMYFaJjkq4onPEBIeyblyFwDtUoV5EPdAax1tHeTGHd8RjsD9BA&amp;s\"/></div></a></td></tr><tr><td><a href=\"/url?q=https://hticglobal.com/blog/elon-musk-becomes-the-first-person-ever-to-lose-200-billion/&amp;sa=U&amp;ved=2ahUKEwjZuv-f5smKAxU0TWcHHZFrML4Qr4kDegQIBhAC&amp;usg=AOvVaw3ekZGDNJtdkTL5ubk45pBb\"><div class=\"AlD19d\">  <span class=\"qXLe6d x3G5ab\">  <span class=\"fYyStc\">Elon Musk Becomes the First...</span>  </span>   <span class=\"qXLe6d F9iS2e\">  <span class=\"fYyStc\">hticglobal.com</span>  </span> </div></a></td></tr></table></div></div> </div> </div></td><td class=\"e3goi\" align=\"center\"><div class=\"jjVJ4e\"> <div> <div class=\"lIMUZd\"><div><table class=\"RntSmf\"><tr><td><a href=\"/url?q=https://screenrant.com/spacex-bankruptcy-possible-elon-musk-email-report/&amp;sa=U&amp;ved=2ahUKEwjZuv-f5smKAxU0TWcHHZFrML4QqoUBegQIAhAB&amp;usg=AOvVaw1N-BHSRszfo7b2ucXgU5pT\"><div class=\"kCmkOe\"><img class=\"DS1iW\" alt=\"\" src=\"https://encrypted-tbn0.gstatic.com/images?q=tbn:ANd9GcR0CTfELxVZZwrSQuCYJ9E2ZE7HMqdIehy3CO6ImCO2dGkTH9vNWU4TXj3akAs&amp;s\"/></div></a></td></tr><tr><td><a href=\"/url?q=https://screenrant.com/spacex-bankruptcy-possible-elon-musk-email-report/&amp;sa=U&amp;ved=2ahUKEwjZuv-f5smKAxU0TWcHHZFrML4Qr4kDegQIAhAC&amp;usg=AOvVaw3sZW3ya-HLCedrSmUDho-I\"><div class=\"AlD19d\">  <span class=\"qXLe6d x3G5ab\">  <span class=\"fYyStc\">Elon Musk\\'s Space Vision In...</span>  </span>   <span class=\"qXLe6d F9iS2e\">  <span class=\"fYyStc\">screenrant.com</span>  </span> </div></a></td></tr></table></div></div> </div> </div></td><td class=\"e3goi\" align=\"center\"><div class=\"jjVJ4e\"> <div> <div class=\"lIMUZd\"><div><table class=\"RntSmf\"><tr><td><a href=\"/url?q=https://www.goodreads.com/book/show/122765395-elon-musk&amp;sa=U&amp;ved=2ahUKEwjZuv-f5smKAxU0TWcHHZFrML4QqoUBegQICBAB&amp;usg=AOvVaw1QfB0L-NuFRDQBMkeXOqOU\"><div class=\"kCmkOe\"><img class=\"DS1iW\" alt=\"\" src=\"https://encrypted-tbn0.gstatic.com/images?q=tbn:ANd9GcS2LDtYIWOvUAMGXZPgVJE77KVoJ3AJn8CbKJ7Y6EKC-s1ljTfclGpMa9yDM3k&amp;s\"/></div></a></td></tr><tr><td><a href=\"/url?q=https://www.goodreads.com/book/show/122765395-elon-musk&amp;sa=U&amp;ved=2ahUKEwjZuv-f5smKAxU0TWcHHZFrML4Qr4kDegQICBAC&amp;usg=AOvVaw3kwrK4W1So2H0sZGywstdA\"><div class=\"AlD19d\">  <span class=\"qXLe6d x3G5ab\">  <span class=\"fYyStc\">Elon Musk by Walter...</span>  </span>   <span class=\"qXLe6d F9iS2e\">  <span class=\"fYyStc\">www.goodreads.com</span>  </span> </div></a></td></tr></table></div></div> </div> </div></td><td class=\"e3goi\" align=\"center\"><div class=\"jjVJ4e\"> <div> <div class=\"lIMUZd\"><div><table class=\"RntSmf\"><tr><td><a href=\"/url?q=https://www.theguardian.com/world/2024/dec/20/elon-musk-claims-only-afd-can-save-germany&amp;sa=U&amp;ved=2ahUKEwjZuv-f5smKAxU0TWcHHZFrML4QqoUBegQIAxAB&amp;usg=AOvVaw0JyvsLHgG9O5Eq7cKJTIRh\"><div class=\"kCmkOe\"><img class=\"DS1iW\" alt=\"\" src=\"https://encrypted-tbn0.gstatic.com/images?q=tbn:ANd9GcSH7otMutrQ3sHSAijMl9ikyrZQOb9UbVvTpXCbMpPeAqRpLFAyzTnaCHyl7A&amp;s\"/></div></a></td></tr><tr><td><a href=\"/url?q=https://www.theguardian.com/world/2024/dec/20/elon-musk-claims-only-afd-can-save-germany&amp;sa=U&amp;ved=2ahUKEwjZuv-f5smKAxU0TWcHHZFrML4Qr4kDegQIAxAC&amp;usg=AOvVaw0z54Y93prrRXnIYiSrDh8q\"><div class=\"AlD19d\">  <span class=\"qXLe6d x3G5ab\">  <span class=\"fYyStc\">Outrage as Elon Musk claims...</span>  </span>   <span class=\"qXLe6d F9iS2e\">  <span class=\"fYyStc\">www.theguardian.com</span>  </span> </div></a></td></tr></table></div></div> </div> </div></td></tr></table></div><table class=\"uZgmoc\"><tbody><td><a class=\"frGj1b\" href=\"/search?q=elon+musk&amp;sca_esv=83043bb16318dcfb&amp;biw=1920&amp;bih=937&amp;ie=UTF-8&amp;tbm=isch&amp;ei=kZVvZ5muMLSanesPkdfB8Qs&amp;start=20&amp;sa=N\">Next&nbsp;&gt;</a></td></tbody></table><br/><div class=\"TuS8Ad\" data-ved=\"0ahUKEwjZuv-f5smKAxU0TWcHHZFrML4QpyoIRQ\"><style>.VYM29{font-weight:bold}</style><div class=\"HddGcc\" align=\"center\"><span class=\"VYM29\">Chikhli, Madhya Pradesh</span><span>&nbsp;-&nbsp;</span><span>From your IP address</span><span>&nbsp;-&nbsp;</span><a href=\"/url?q=https://support.google.com/websearch%3Fp%3Dws_settings_location%26hl%3Den-IN&amp;opi=89978449&amp;sa=U&amp;ved=0ahUKEwjZuv-f5smKAxU0TWcHHZFrML4Qty4IRg&amp;usg=AOvVaw2PYB7fibdc3itxEQy2h0Q0\">Learn more</a></div><div align=\"center\"><a class=\"rEM8G\" href=\"/url?q=https://accounts.google.com/ServiceLogin%3Fcontinue%3Dhttps://www.google.com/search%253Fq%253Delon%252Bmusk%2526sxsrf%253DAJOqlzUuff1RXi2mm8I_OqOwT9VjfIDL7w:1676996143273%2526source%253Dlnms%2526tbm%253Disch%2526sa%253DX%2526ved%253D2ahUKEwiq-qK7gaf9AhXUgVYBHYReAfYQ_AUoA3oECAEQBQ%2526biw%253D1920%2526bih%253D937%2526dpr%253D1%26hl%3Den&amp;opi=89978449&amp;sa=U&amp;ved=0ahUKEwjZuv-f5smKAxU0TWcHHZFrML4Qxs8CCEc&amp;usg=AOvVaw2FLh8P2_ZS6twtdYXCSL_8\">Sign in</a></div><div><table class=\"bookcf\"><tbody class=\"InWNIe\"><tr><td><a class=\"rEM8G\" href=\"https://www.google.com/preferences?hl=en&amp;sa=X&amp;ved=0ahUKEwjZuv-f5smKAxU0TWcHHZFrML4Qv5YECEg\">Settings</a></td><td><a class=\"rEM8G\" href=\"https://www.google.com/intl/en_in/policies/privacy/\">Privacy</a></td><td><a class=\"rEM8G\" href=\"https://www.google.com/intl/en_in/policies/terms/\">Terms</a></td></tr></tbody></table></div></div><div>  </div></body></html>'"
      ]
     },
     "execution_count": 13,
     "metadata": {},
     "output_type": "execute_result"
    }
   ],
   "source": [
    "response.content"
   ]
  },
  {
   "cell_type": "code",
   "execution_count": 17,
   "id": "28d0fa2b-5371-4b2f-9e9e-65d672f8e92f",
   "metadata": {},
   "outputs": [],
   "source": [
    "soup = BeautifulSoup(response.content,\"html.parser\")"
   ]
  },
  {
   "cell_type": "markdown",
   "id": "72d517d2-99bf-45db-a9e6-c9de0e01125b",
   "metadata": {},
   "source": [
    "#### now we have to find anything with image tag in the html dump"
   ]
  },
  {
   "cell_type": "code",
   "execution_count": 19,
   "id": "3ee86389-69d3-460d-98c3-2b16dcab56df",
   "metadata": {},
   "outputs": [],
   "source": [
    "image_tags = soup.find_all(\"img\")"
   ]
  },
  {
   "cell_type": "code",
   "execution_count": 21,
   "id": "9f888507-bd45-4360-b063-aa31f51a09eb",
   "metadata": {},
   "outputs": [
    {
     "data": {
      "text/plain": [
       "19"
      ]
     },
     "execution_count": 21,
     "metadata": {},
     "output_type": "execute_result"
    }
   ],
   "source": [
    "# Delete the first image_tag\n",
    "del image_tags[0]\n",
    "len(image_tags)"
   ]
  },
  {
   "cell_type": "code",
   "execution_count": 23,
   "id": "3c52e288-ec21-4d3d-98b1-56bc0bb32fb8",
   "metadata": {},
   "outputs": [],
   "source": [
    "# Extract the src to get the link only and also lave it in loacl \"iamge directory\"\n",
    "image_data_mongo = []\n",
    "for i in image_tags:\n",
    "    image_url = i['src']\n",
    "    image_data = requests.get(image_url).content\n",
    "    mydict = {\"index\" : image_url, \"image\" : image_data}\n",
    "    image_data_mongo.append(mydict)\n",
    "    # we wamt to save the dictionary in my local directory also\n",
    "    with open(os.path.join(save_dir, f\"{query}_{image_tags.index(i)}.jpg\"), \"wb\") as f:\n",
    "                           f.write(image_data)"
   ]
  },
  {
   "cell_type": "code",
   "execution_count": 25,
   "id": "bdc08e6e-5898-4ef6-86e2-ca05ec132195",
   "metadata": {},
   "outputs": [],
   "source": [
    "#image_data_mongo"
   ]
  }
 ],
 "metadata": {
  "kernelspec": {
   "display_name": "Python 3 (ipykernel)",
   "language": "python",
   "name": "python3"
  },
  "language_info": {
   "codemirror_mode": {
    "name": "ipython",
    "version": 3
   },
   "file_extension": ".py",
   "mimetype": "text/x-python",
   "name": "python",
   "nbconvert_exporter": "python",
   "pygments_lexer": "ipython3",
   "version": "3.11.7"
  }
 },
 "nbformat": 4,
 "nbformat_minor": 5
}
